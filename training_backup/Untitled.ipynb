{
 "cells": [
  {
   "cell_type": "code",
   "execution_count": 1,
   "metadata": {},
   "outputs": [
    {
     "name": "stdout",
     "output_type": "stream",
     "text": [
      "name,1,2,3,4,5,6,7,8,9,10,11,12,13,14,15\n",
      " ['jump-1,still,still,still,still,jump,jump,jump,jump,still,still,still,still,still,still,still\\n', 'jump-2,still,still,jump,jump,jump,still,still,still,still,still,still,still,still,still,still\\n', 'jump-3,still,still,still,still,still,still,still,still,still,jump,still,still,still,still,still\\n', 'jump-4,jump,jump,jump,jump,jump,still,still,still,still,still,still,still,still,still,still\\n', 'jump-5,still,still,still,jump,jump,still,still,still,still,still,still,still,still,still,still\\n', 'stand-to-sit-1,still,sitting,sitting,still,still,still,still,still,still,still,still,still,still,still,still\\n', 'stand-to-sit-2,sitting,sitting,sitting,still,still,still,still,still,still,still,still,still,still,still,still\\n', 'stand-to-sit-3,still,still,moving,moving,moving,still,sitting,sitting,sitting,still,still,still,still,still,still\\n', 'stand-to-sit-4,still,still,still ,sitting,sitting,sitting,sitting,still,still,still,still,still,still,still,still\\n', 'stand-to-sit-5,still,sitting,sitting,sitting,sitting,sitting,still,still,still,still,still,still,still,still,still\\n']\n"
     ]
    }
   ],
   "source": [
    "with open('label.csv') as f:\n",
    "    head = f.readline()\n",
    "    lines = f.readlines()\n",
    "print(head, lines)"
   ]
  },
  {
   "cell_type": "code",
   "execution_count": 11,
   "metadata": {},
   "outputs": [
    {
     "data": {
      "text/plain": [
       "'jump-1,still,still,still,still,jump,jump,jump,jump,still,still,still,still,still,still,stil'"
      ]
     },
     "execution_count": 11,
     "metadata": {},
     "output_type": "execute_result"
    }
   ],
   "source": [
    "lines[0][:-2]"
   ]
  },
  {
   "cell_type": "code",
   "execution_count": 12,
   "metadata": {},
   "outputs": [
    {
     "data": {
      "text/plain": [
       "str"
      ]
     },
     "execution_count": 12,
     "metadata": {},
     "output_type": "execute_result"
    }
   ],
   "source": [
    "type(lines[0])"
   ]
  },
  {
   "cell_type": "code",
   "execution_count": 13,
   "metadata": {},
   "outputs": [],
   "source": [
    "line = lines[0].split(\",\")"
   ]
  },
  {
   "cell_type": "code",
   "execution_count": 14,
   "metadata": {},
   "outputs": [
    {
     "data": {
      "text/plain": [
       "['jump-1',\n",
       " 'still',\n",
       " 'still',\n",
       " 'still',\n",
       " 'still',\n",
       " 'jump',\n",
       " 'jump',\n",
       " 'jump',\n",
       " 'jump',\n",
       " 'still',\n",
       " 'still',\n",
       " 'still',\n",
       " 'still',\n",
       " 'still',\n",
       " 'still',\n",
       " 'still\\n']"
      ]
     },
     "execution_count": 14,
     "metadata": {},
     "output_type": "execute_result"
    }
   ],
   "source": [
    "line"
   ]
  },
  {
   "cell_type": "code",
   "execution_count": 15,
   "metadata": {},
   "outputs": [
    {
     "data": {
      "text/plain": [
       "'still'"
      ]
     },
     "execution_count": 15,
     "metadata": {},
     "output_type": "execute_result"
    }
   ],
   "source": [
    "line[1]"
   ]
  },
  {
   "cell_type": "code",
   "execution_count": 16,
   "metadata": {},
   "outputs": [],
   "source": [
    "a = {}\n",
    "b = \"cs\""
   ]
  },
  {
   "cell_type": "code",
   "execution_count": 17,
   "metadata": {},
   "outputs": [
    {
     "data": {
      "text/plain": [
       "False"
      ]
     },
     "execution_count": 17,
     "metadata": {},
     "output_type": "execute_result"
    }
   ],
   "source": [
    "b in a"
   ]
  },
  {
   "cell_type": "code",
   "execution_count": 18,
   "metadata": {},
   "outputs": [],
   "source": [
    "a[b] = len(a)"
   ]
  },
  {
   "cell_type": "code",
   "execution_count": 19,
   "metadata": {},
   "outputs": [
    {
     "data": {
      "text/plain": [
       "{'cs': 0}"
      ]
     },
     "execution_count": 19,
     "metadata": {},
     "output_type": "execute_result"
    }
   ],
   "source": [
    "a"
   ]
  },
  {
   "cell_type": "code",
   "execution_count": 20,
   "metadata": {},
   "outputs": [
    {
     "data": {
      "text/plain": [
       "['jump-1,still,still,still,still,jump,jump,jump,jump,still,still,still,still,still,still,still\\n',\n",
       " 'jump-2,still,still,jump,jump,jump,still,still,still,still,still,still,still,still,still,still\\n',\n",
       " 'jump-3,still,still,still,still,still,still,still,still,still,jump,still,still,still,still,still\\n',\n",
       " 'jump-4,jump,jump,jump,jump,jump,still,still,still,still,still,still,still,still,still,still\\n',\n",
       " 'jump-5,still,still,still,jump,jump,still,still,still,still,still,still,still,still,still,still\\n',\n",
       " 'stand-to-sit-1,still,sitting,sitting,still,still,still,still,still,still,still,still,still,still,still,still\\n',\n",
       " 'stand-to-sit-2,sitting,sitting,sitting,still,still,still,still,still,still,still,still,still,still,still,still\\n',\n",
       " 'stand-to-sit-3,still,still,moving,moving,moving,still,sitting,sitting,sitting,still,still,still,still,still,still\\n',\n",
       " 'stand-to-sit-4,still,still,still ,sitting,sitting,sitting,sitting,still,still,still,still,still,still,still,still\\n',\n",
       " 'stand-to-sit-5,still,sitting,sitting,sitting,sitting,sitting,still,still,still,still,still,still,still,still,still\\n']"
      ]
     },
     "execution_count": 20,
     "metadata": {},
     "output_type": "execute_result"
    }
   ],
   "source": [
    "lines"
   ]
  },
  {
   "cell_type": "code",
   "execution_count": 28,
   "metadata": {},
   "outputs": [],
   "source": [
    "line = lines[0][:-1].split(\",\")"
   ]
  },
  {
   "cell_type": "code",
   "execution_count": 31,
   "metadata": {},
   "outputs": [
    {
     "data": {
      "text/plain": [
       "'jump-1'"
      ]
     },
     "execution_count": 31,
     "metadata": {},
     "output_type": "execute_result"
    }
   ],
   "source": [
    "line[0]"
   ]
  },
  {
   "cell_type": "code",
   "execution_count": 32,
   "metadata": {},
   "outputs": [
    {
     "data": {
      "text/plain": [
       "['still',\n",
       " 'still',\n",
       " 'still',\n",
       " 'still',\n",
       " 'jump',\n",
       " 'jump',\n",
       " 'jump',\n",
       " 'jump',\n",
       " 'still',\n",
       " 'still',\n",
       " 'still',\n",
       " 'still',\n",
       " 'still',\n",
       " 'still',\n",
       " 'still']"
      ]
     },
     "execution_count": 32,
     "metadata": {},
     "output_type": "execute_result"
    }
   ],
   "source": [
    "line[1:]"
   ]
  },
  {
   "cell_type": "code",
   "execution_count": null,
   "metadata": {},
   "outputs": [],
   "source": []
  }
 ],
 "metadata": {
  "kernelspec": {
   "display_name": "Python 3",
   "language": "python",
   "name": "python3"
  },
  "language_info": {
   "codemirror_mode": {
    "name": "ipython",
    "version": 3
   },
   "file_extension": ".py",
   "mimetype": "text/x-python",
   "name": "python",
   "nbconvert_exporter": "python",
   "pygments_lexer": "ipython3",
   "version": "3.6.4"
  }
 },
 "nbformat": 4,
 "nbformat_minor": 2
}
